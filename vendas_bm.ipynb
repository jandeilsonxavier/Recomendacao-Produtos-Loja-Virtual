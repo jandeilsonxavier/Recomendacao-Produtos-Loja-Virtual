{
  "nbformat": 4,
  "nbformat_minor": 0,
  "metadata": {
    "colab": {
      "provenance": [],
      "authorship_tag": "ABX9TyMVaJxkzLc0dH6V5ttDtpuE",
      "include_colab_link": true
    },
    "kernelspec": {
      "name": "python3",
      "display_name": "Python 3"
    },
    "language_info": {
      "name": "python"
    }
  },
  "cells": [
    {
      "cell_type": "markdown",
      "metadata": {
        "id": "view-in-github",
        "colab_type": "text"
      },
      "source": [
        "<a href=\"https://colab.research.google.com/github/jandeilsonxavier/Recomendacao-Produtos-Loja-Virtual/blob/main/vendas_bm.ipynb\" target=\"_parent\"><img src=\"https://colab.research.google.com/assets/colab-badge.svg\" alt=\"Open In Colab\"/></a>"
      ]
    },
    {
      "cell_type": "code",
      "source": [
        "import pandas as pd\n",
        "\n",
        "# Carregar o dataset\n",
        "file_path = 'vendas_bm.csv'\n",
        "\n",
        "df = pd.read_csv(file_path, sep=\";\")\n",
        "# Mostrar todas as colunas\n",
        "\n",
        "df.columns"
      ],
      "metadata": {
        "colab": {
          "base_uri": "https://localhost:8080/"
        },
        "id": "W6cOa-plf2Pn",
        "outputId": "7f193f85-630c-41dc-b2ce-e1b2c9fa1389"
      },
      "execution_count": null,
      "outputs": [
        {
          "output_type": "execute_result",
          "data": {
            "text/plain": [
              "Index(['Order Date', 'Order ID', 'Product', 'Product_ean', 'catégorie',\n",
              "       'Purchase Address', 'Quantity Ordered', 'Price Each', 'Cost price',\n",
              "       'turnover', 'margin'],\n",
              "      dtype='object')"
            ]
          },
          "metadata": {},
          "execution_count": 2
        }
      ]
    },
    {
      "cell_type": "code",
      "source": [
        "# # Passo 1: Remover os pontos como separadores de milhares\n",
        "# df['Total Pedido'] = df['Total Pedido'].apply(lambda x: x.replace('.', '') if '.' in x else x)\n",
        "\n",
        "# # # Passo 2: Substituir vírgulas por pontos para separar casas d\n",
        "# df['Total Pedido'] = df['Total Pedido'].str.replace(',', '.', regex=True)\n",
        "\n",
        "# # # Passo 3: Converter para float\n",
        "# df['Total Pedido'] = df['Total Pedido'].astype('float64')\n",
        "# df['Total Pedido']"
      ],
      "metadata": {
        "colab": {
          "base_uri": "https://localhost:8080/",
          "height": 458
        },
        "id": "DhiWD7wSJydZ",
        "outputId": "c1c1f7ef-fbab-4f6d-d26a-88af3408ee87",
        "collapsed": true
      },
      "execution_count": null,
      "outputs": [
        {
          "output_type": "execute_result",
          "data": {
            "text/plain": [
              "0        24.77\n",
              "1        24.77\n",
              "2       252.98\n",
              "3       252.98\n",
              "4       252.98\n",
              "         ...  \n",
              "3160     43.86\n",
              "3161     43.86\n",
              "3162     43.86\n",
              "3163     14.16\n",
              "3164    189.62\n",
              "Name: Total Pedido, Length: 3165, dtype: float64"
            ],
            "text/html": [
              "<div>\n",
              "<style scoped>\n",
              "    .dataframe tbody tr th:only-of-type {\n",
              "        vertical-align: middle;\n",
              "    }\n",
              "\n",
              "    .dataframe tbody tr th {\n",
              "        vertical-align: top;\n",
              "    }\n",
              "\n",
              "    .dataframe thead th {\n",
              "        text-align: right;\n",
              "    }\n",
              "</style>\n",
              "<table border=\"1\" class=\"dataframe\">\n",
              "  <thead>\n",
              "    <tr style=\"text-align: right;\">\n",
              "      <th></th>\n",
              "      <th>Total Pedido</th>\n",
              "    </tr>\n",
              "  </thead>\n",
              "  <tbody>\n",
              "    <tr>\n",
              "      <th>0</th>\n",
              "      <td>24.77</td>\n",
              "    </tr>\n",
              "    <tr>\n",
              "      <th>1</th>\n",
              "      <td>24.77</td>\n",
              "    </tr>\n",
              "    <tr>\n",
              "      <th>2</th>\n",
              "      <td>252.98</td>\n",
              "    </tr>\n",
              "    <tr>\n",
              "      <th>3</th>\n",
              "      <td>252.98</td>\n",
              "    </tr>\n",
              "    <tr>\n",
              "      <th>4</th>\n",
              "      <td>252.98</td>\n",
              "    </tr>\n",
              "    <tr>\n",
              "      <th>...</th>\n",
              "      <td>...</td>\n",
              "    </tr>\n",
              "    <tr>\n",
              "      <th>3160</th>\n",
              "      <td>43.86</td>\n",
              "    </tr>\n",
              "    <tr>\n",
              "      <th>3161</th>\n",
              "      <td>43.86</td>\n",
              "    </tr>\n",
              "    <tr>\n",
              "      <th>3162</th>\n",
              "      <td>43.86</td>\n",
              "    </tr>\n",
              "    <tr>\n",
              "      <th>3163</th>\n",
              "      <td>14.16</td>\n",
              "    </tr>\n",
              "    <tr>\n",
              "      <th>3164</th>\n",
              "      <td>189.62</td>\n",
              "    </tr>\n",
              "  </tbody>\n",
              "</table>\n",
              "<p>3165 rows × 1 columns</p>\n",
              "</div><br><label><b>dtype:</b> float64</label>"
            ]
          },
          "metadata": {},
          "execution_count": 49
        }
      ]
    },
    {
      "cell_type": "code",
      "source": [
        "df['Total Pedido'].describe()"
      ],
      "metadata": {
        "colab": {
          "base_uri": "https://localhost:8080/",
          "height": 335
        },
        "id": "UUstk2JEg24v",
        "outputId": "1ead6561-18eb-440b-d133-f7ca787c274a",
        "collapsed": true
      },
      "execution_count": null,
      "outputs": [
        {
          "output_type": "execute_result",
          "data": {
            "text/plain": [
              "count    3165.00000\n",
              "mean      186.60042\n",
              "std       433.94600\n",
              "min         0.86000\n",
              "25%        35.70000\n",
              "50%        71.10000\n",
              "75%       153.10000\n",
              "max      3600.00000\n",
              "Name: Total Pedido, dtype: float64"
            ],
            "text/html": [
              "<div>\n",
              "<style scoped>\n",
              "    .dataframe tbody tr th:only-of-type {\n",
              "        vertical-align: middle;\n",
              "    }\n",
              "\n",
              "    .dataframe tbody tr th {\n",
              "        vertical-align: top;\n",
              "    }\n",
              "\n",
              "    .dataframe thead th {\n",
              "        text-align: right;\n",
              "    }\n",
              "</style>\n",
              "<table border=\"1\" class=\"dataframe\">\n",
              "  <thead>\n",
              "    <tr style=\"text-align: right;\">\n",
              "      <th></th>\n",
              "      <th>Total Pedido</th>\n",
              "    </tr>\n",
              "  </thead>\n",
              "  <tbody>\n",
              "    <tr>\n",
              "      <th>count</th>\n",
              "      <td>3165.00000</td>\n",
              "    </tr>\n",
              "    <tr>\n",
              "      <th>mean</th>\n",
              "      <td>186.60042</td>\n",
              "    </tr>\n",
              "    <tr>\n",
              "      <th>std</th>\n",
              "      <td>433.94600</td>\n",
              "    </tr>\n",
              "    <tr>\n",
              "      <th>min</th>\n",
              "      <td>0.86000</td>\n",
              "    </tr>\n",
              "    <tr>\n",
              "      <th>25%</th>\n",
              "      <td>35.70000</td>\n",
              "    </tr>\n",
              "    <tr>\n",
              "      <th>50%</th>\n",
              "      <td>71.10000</td>\n",
              "    </tr>\n",
              "    <tr>\n",
              "      <th>75%</th>\n",
              "      <td>153.10000</td>\n",
              "    </tr>\n",
              "    <tr>\n",
              "      <th>max</th>\n",
              "      <td>3600.00000</td>\n",
              "    </tr>\n",
              "  </tbody>\n",
              "</table>\n",
              "</div><br><label><b>dtype:</b> float64</label>"
            ]
          },
          "metadata": {},
          "execution_count": 51
        }
      ]
    },
    {
      "cell_type": "code",
      "source": [
        "df.shape"
      ],
      "metadata": {
        "colab": {
          "base_uri": "https://localhost:8080/"
        },
        "id": "nL7Tsi4oJ778",
        "outputId": "c70abda8-8799-445a-8866-bb0501fcc9d3"
      },
      "execution_count": null,
      "outputs": [
        {
          "output_type": "execute_result",
          "data": {
            "text/plain": [
              "(3165, 41)"
            ]
          },
          "metadata": {},
          "execution_count": 20
        }
      ]
    },
    {
      "cell_type": "code",
      "source": [
        "# Agrupar os produtos por pedido em uma única lista\n",
        "basket = df.groupby('Número pedido')['Produto'].apply(list).reset_index()\n",
        "\n",
        "# Convert all items in the 'Produto' column to strings before fitting\n",
        "basket['Produto'] = basket['Produto'].apply(lambda x: [str(item) for item in x])\n",
        "print(basket.head())\n",
        "basket.shape"
      ],
      "metadata": {
        "colab": {
          "base_uri": "https://localhost:8080/"
        },
        "collapsed": true,
        "id": "1y5nAcq71zgd",
        "outputId": "645617ab-a73a-48ce-a540-a54aa975d88d"
      },
      "execution_count": null,
      "outputs": [
        {
          "output_type": "stream",
          "name": "stdout",
          "text": [
            "   Número pedido                                            Produto\n",
            "0            692  [Protoboard 400 Pontos, Fonte Ajustável para P...\n",
            "1            693  [Arduino Uno R3 SMD ATmega328P Tipo:Com Cabo, ...\n",
            "2            694   [Kit Arduino Uno R3 Iniciante 78 Peças + Brinde]\n",
            "3            695  [Driver Motor de Passo DRV8825 + Dissipador de...\n",
            "4            696  [Válvula Solenoide para Água (1/2 x 1/2) 220V ...\n"
          ]
        },
        {
          "output_type": "stream",
          "name": "stderr",
          "text": [
            "/usr/local/lib/python3.10/dist-packages/ipykernel/ipkernel.py:283: DeprecationWarning: `should_run_async` will not call `transform_cell` automatically in the future. Please pass the result to `transformed_cell` argument and any exception that happen during thetransform in `preprocessing_exc_tuple` in IPython 7.17 and above.\n",
            "  and should_run_async(code)\n"
          ]
        },
        {
          "output_type": "execute_result",
          "data": {
            "text/plain": [
              "(1041, 2)"
            ]
          },
          "metadata": {},
          "execution_count": 9
        }
      ]
    },
    {
      "cell_type": "markdown",
      "source": [
        "Converter para Formato One-Hot Encoding  \n",
        "\n",
        "1.   Item da lista\n",
        "2.   Item da lista\n",
        "\n",
        "\n",
        "Para o Apriori, precisamos converter a lista de produtos em uma matriz binária (onde cada coluna representa um produto)."
      ],
      "metadata": {
        "id": "HWVk3X1inPhg"
      }
    },
    {
      "cell_type": "code",
      "source": [
        "from mlxtend.preprocessing import TransactionEncoder\n",
        "\n",
        "# Aplicar o TransactionEncoder\n",
        "te = TransactionEncoder()\n",
        "te_data = te.fit(basket['Produto']).transform(basket['Produto'])\n",
        "df_encoded = pd.DataFrame(te_data, columns=te.columns_)\n",
        "\n",
        "print(df_encoded.head())\n",
        "df_encoded.shape"
      ],
      "metadata": {
        "collapsed": true,
        "id": "Gxc0SA6bnOrT"
      },
      "execution_count": null,
      "outputs": []
    },
    {
      "cell_type": "markdown",
      "source": [
        "**Aplicar o Algoritmo Apriori**  \n",
        "Usaremos o algoritmo Apriori para encontrar combinações frequentes de produtos."
      ],
      "metadata": {
        "id": "EMlr4CPPnxXf"
      }
    },
    {
      "cell_type": "code",
      "source": [
        "# Importar bibliotecas necessárias\n",
        "from mlxtend.frequent_patterns import apriori\n",
        "from mlxtend.frequent_patterns import association_rules\n",
        "\n",
        "# Gerar conjuntos de itens frequentes\n",
        "frequent_itemsets = apriori(df_encoded, min_support=0.002, use_colnames=True)\n",
        "\n",
        "# Gerar regras de associação\n",
        "rules = association_rules(frequent_itemsets, metric='confidence',min_threshold=0.005, num_itemsets=1)\n",
        "\n",
        "# Exibir resultados\n",
        "print(rules[['antecedents', 'consequents', 'support', 'confidence', 'lift']].head())\n",
        "rules.shape\n"
      ],
      "metadata": {
        "colab": {
          "base_uri": "https://localhost:8080/"
        },
        "id": "4tKzwBdRn4IY",
        "outputId": "9b969b1b-2193-490d-8adf-e1e55f6893c3",
        "collapsed": true
      },
      "execution_count": null,
      "outputs": [
        {
          "output_type": "stream",
          "name": "stderr",
          "text": [
            "/usr/local/lib/python3.10/dist-packages/ipykernel/ipkernel.py:283: DeprecationWarning: `should_run_async` will not call `transform_cell` automatically in the future. Please pass the result to `transformed_cell` argument and any exception that happen during thetransform in `preprocessing_exc_tuple` in IPython 7.17 and above.\n",
            "  and should_run_async(code)\n"
          ]
        },
        {
          "output_type": "stream",
          "name": "stdout",
          "text": [
            "                                         antecedents  \\\n",
            "0  (Acelerômetro e Giroscópio 3 Eixos GY-521 MPU-...   \n",
            "1                          (LDR - Sensor De Luz 5mm)   \n",
            "2  (Acelerômetro e Giroscópio 3 Eixos GY-521 MPU-...   \n",
            "3           (Módulo ESP32 Wifi e Bluetooth 30 Pinos)   \n",
            "4  (Acelerômetro e Giroscópio 3 Eixos GY-521 MPU-...   \n",
            "\n",
            "                                         consequents   support  confidence  \\\n",
            "0                          (LDR - Sensor De Luz 5mm)  0.002882    0.150000   \n",
            "1  (Acelerômetro e Giroscópio 3 Eixos GY-521 MPU-...  0.002882    0.115385   \n",
            "2           (Módulo ESP32 Wifi e Bluetooth 30 Pinos)  0.002882    0.150000   \n",
            "3  (Acelerômetro e Giroscópio 3 Eixos GY-521 MPU-...  0.002882    0.047619   \n",
            "4  (Regulador de Tensão LM2596 Conversor DC-DC St...  0.003842    0.200000   \n",
            "\n",
            "       lift  \n",
            "0  6.005769  \n",
            "1  6.005769  \n",
            "2  2.478571  \n",
            "3  2.478571  \n",
            "4  6.940000  \n"
          ]
        },
        {
          "output_type": "execute_result",
          "data": {
            "text/plain": [
              "(27216, 14)"
            ]
          },
          "metadata": {},
          "execution_count": 13
        }
      ]
    },
    {
      "cell_type": "code",
      "source": [
        "# Transformar conjuntos em strings para exibição mais clara\n",
        "# rules['antecedents'] = rules['antecedents'].apply(lambda x: ', '.join(list(x)))\n",
        "# rules['consequents'] = rules['consequents'].apply(lambda x: ', '.join(list(x)))\n",
        "\n",
        "rules['antecedents'] = rules['antecedents'].apply(lambda x: list(x)[0])\n",
        "rules['consequents'] = rules['consequents'].apply(lambda x: list(x)[0])\n",
        "\n",
        "# Exibir as 5 primeiras regras\n",
        "print(rules[['antecedents', 'consequents', 'support', 'confidence', 'lift']].head())"
      ],
      "metadata": {
        "colab": {
          "base_uri": "https://localhost:8080/"
        },
        "id": "7CIp3G7NeOl2",
        "outputId": "f63ace88-0c98-41fb-839c-48443b6addde",
        "collapsed": true
      },
      "execution_count": null,
      "outputs": [
        {
          "output_type": "stream",
          "name": "stdout",
          "text": [
            "                                         antecedents  \\\n",
            "0  Acelerômetro e Giroscópio 3 Eixos GY-521 MPU-6050   \n",
            "1                            LDR - Sensor De Luz 5mm   \n",
            "2  Acelerômetro e Giroscópio 3 Eixos GY-521 MPU-6050   \n",
            "3             Módulo ESP32 Wifi e Bluetooth 30 Pinos   \n",
            "4  Acelerômetro e Giroscópio 3 Eixos GY-521 MPU-6050   \n",
            "\n",
            "                                         consequents   support  confidence  \\\n",
            "0                            LDR - Sensor De Luz 5mm  0.002882    0.150000   \n",
            "1  Acelerômetro e Giroscópio 3 Eixos GY-521 MPU-6050  0.002882    0.115385   \n",
            "2             Módulo ESP32 Wifi e Bluetooth 30 Pinos  0.002882    0.150000   \n",
            "3  Acelerômetro e Giroscópio 3 Eixos GY-521 MPU-6050  0.002882    0.047619   \n",
            "4  Regulador de Tensão LM2596 Conversor DC-DC Ste...  0.003842    0.200000   \n",
            "\n",
            "       lift  \n",
            "0  6.005769  \n",
            "1  6.005769  \n",
            "2  2.478571  \n",
            "3  2.478571  \n",
            "4  6.940000  \n"
          ]
        },
        {
          "output_type": "stream",
          "name": "stderr",
          "text": [
            "/usr/local/lib/python3.10/dist-packages/ipykernel/ipkernel.py:283: DeprecationWarning: `should_run_async` will not call `transform_cell` automatically in the future. Please pass the result to `transformed_cell` argument and any exception that happen during thetransform in `preprocessing_exc_tuple` in IPython 7.17 and above.\n",
            "  and should_run_async(code)\n"
          ]
        }
      ]
    },
    {
      "cell_type": "markdown",
      "source": [
        "Aplicação no Sistema \"Compre Junto\""
      ],
      "metadata": {
        "id": "b9B-r7FjSu6l"
      }
    },
    {
      "cell_type": "code",
      "source": [
        "# # Filtrar regras de interesse\n",
        "# # rules_filtered = rules[rules['confidence'] > 0.5]  # Apenas regras com alta confiança\n",
        "\n",
        "# # Transformar 'antecedents' e 'consequents' em strings para manipulação\n",
        "# rules_filtered['antecedents'] = rules['antecedents'].apply(lambda x: list(x)[0])\n",
        "# rules_filtered['consequents'] = rules['consequents'].apply(lambda x: list(x)[0])"
      ],
      "metadata": {
        "colab": {
          "base_uri": "https://localhost:8080/"
        },
        "id": "a3eGDvpuSwUm",
        "outputId": "1a82e9e5-4826-4c94-b24d-a8669aa3113d",
        "collapsed": true
      },
      "execution_count": null,
      "outputs": [
        {
          "output_type": "stream",
          "name": "stderr",
          "text": [
            "/usr/local/lib/python3.10/dist-packages/ipykernel/ipkernel.py:283: DeprecationWarning: `should_run_async` will not call `transform_cell` automatically in the future. Please pass the result to `transformed_cell` argument and any exception that happen during thetransform in `preprocessing_exc_tuple` in IPython 7.17 and above.\n",
            "  and should_run_async(code)\n",
            "<ipython-input-23-2c89c459fa1a>:5: SettingWithCopyWarning: \n",
            "A value is trying to be set on a copy of a slice from a DataFrame.\n",
            "Try using .loc[row_indexer,col_indexer] = value instead\n",
            "\n",
            "See the caveats in the documentation: https://pandas.pydata.org/pandas-docs/stable/user_guide/indexing.html#returning-a-view-versus-a-copy\n",
            "  rules_filtered['antecedents'] = rules_filtered['antecedents'].apply(lambda x: list(x)[0])\n",
            "<ipython-input-23-2c89c459fa1a>:6: SettingWithCopyWarning: \n",
            "A value is trying to be set on a copy of a slice from a DataFrame.\n",
            "Try using .loc[row_indexer,col_indexer] = value instead\n",
            "\n",
            "See the caveats in the documentation: https://pandas.pydata.org/pandas-docs/stable/user_guide/indexing.html#returning-a-view-versus-a-copy\n",
            "  rules_filtered['consequents'] = rules_filtered['consequents'].apply(lambda x: list(x)[0])\n"
          ]
        }
      ]
    },
    {
      "cell_type": "code",
      "source": [
        "# Produto que você quer analisar\n",
        "produto_analise = 'Arduino Uno R3 SMD ATmega328P'\n",
        "\n",
        "# Filtrar as regras de associação onde o produto está como antecedente\n",
        "regras_produto = rules[rules['antecedents'] == produto_analise]\n",
        "\n",
        "# # Transformar 'antecedents' e 'consequents' em strings para manipulação\n",
        "# regras_produto['antecedents'] = rules['antecedents'].apply(lambda x: list(x)[0])\n",
        "# regras_produto['consequents'] = rules['consequents'].apply(lambda x: list(x)[0])\n",
        "\n",
        "# Exibir as regras relacionadas ao produto\n",
        "print(regras_produto[['antecedents', 'consequents','support', 'confidence', 'lift']])"
      ],
      "metadata": {
        "id": "rTosEPSx9NqY"
      },
      "execution_count": null,
      "outputs": []
    },
    {
      "cell_type": "code",
      "source": [
        "# Ordenar as regras por suporte em ordem decrescente e pegar os 5 primeiros produtos\n",
        "top_products = regras_produto.drop_duplicates(subset='consequents')\n",
        "top5_products = top_products.sort_values(by='support', ascending=False).head(5)\n",
        "# Exibir os 5 primeiros produtos com maior suporte\n",
        "print(top5_products[['consequents','support', 'confidence', 'lift']])"
      ],
      "metadata": {
        "colab": {
          "base_uri": "https://localhost:8080/"
        },
        "id": "XvQjkfDMaz3c",
        "outputId": "33f5a0ab-1c8b-4095-a9c5-814a8e51be2b"
      },
      "execution_count": null,
      "outputs": [
        {
          "output_type": "stream",
          "name": "stdout",
          "text": [
            "                                         consequents   support  confidence  \\\n",
            "32          Cabo Jumper 20cm Macho-Macho 40 Unidades  0.005764    0.272727   \n",
            "34                        Driver Motor Ponte H L298N  0.005764    0.272727   \n",
            "30          Cabo Jumper 20cm Macho-Fêmea 40 Unidades  0.003842    0.181818   \n",
            "39  Fonte de Alimentação Chaveada DC 12V 5A Metálica  0.003842    0.181818   \n",
            "40      Módulo Sensor Distância Ultrassônico HC-SR04  0.003842    0.181818   \n",
            "\n",
            "         lift  \n",
            "32   5.678182  \n",
            "34  12.904959  \n",
            "30   3.052786  \n",
            "39  15.772727  \n",
            "40   4.980861  \n"
          ]
        },
        {
          "output_type": "stream",
          "name": "stderr",
          "text": [
            "/usr/local/lib/python3.10/dist-packages/ipykernel/ipkernel.py:283: DeprecationWarning: `should_run_async` will not call `transform_cell` automatically in the future. Please pass the result to `transformed_cell` argument and any exception that happen during thetransform in `preprocessing_exc_tuple` in IPython 7.17 and above.\n",
            "  and should_run_async(code)\n"
          ]
        }
      ]
    },
    {
      "cell_type": "code",
      "source": [
        "# prompt: salvar em um arquivo csv\n",
        "regras_produto = regras_produto[['antecedents', 'consequents','support', 'confidence', 'lift']]\n",
        "# Salvar as regras de associação em um arquivo excel\n",
        "regras_produto.to_excel('regras_associacao_esp1.xlsx', index=False)"
      ],
      "metadata": {
        "colab": {
          "base_uri": "https://localhost:8080/"
        },
        "id": "X0dns-iIFl5O",
        "outputId": "4f27723d-a186-49ac-b0f7-61b08a57c11e"
      },
      "execution_count": null,
      "outputs": [
        {
          "output_type": "stream",
          "name": "stderr",
          "text": [
            "/usr/local/lib/python3.10/dist-packages/ipykernel/ipkernel.py:283: DeprecationWarning: `should_run_async` will not call `transform_cell` automatically in the future. Please pass the result to `transformed_cell` argument and any exception that happen during thetransform in `preprocessing_exc_tuple` in IPython 7.17 and above.\n",
            "  and should_run_async(code)\n"
          ]
        }
      ]
    },
    {
      "cell_type": "code",
      "source": [
        "# Importar bibliotecas necessárias\n",
        "import pandas as pd\n",
        "from mlxtend.frequent_patterns import apriori\n",
        "from mlxtend.frequent_patterns import association_rules\n",
        "from mlxtend.preprocessing import TransactionEncoder\n",
        "\n",
        "# Carregar o dataset\n",
        "file_path = 'vendas_bm.csv'\n",
        "\n",
        "df = pd.read_csv(file_path, sep=\";\")\n",
        "\n",
        "# Agrupar os produtos por pedido em uma única lista\n",
        "basket = df.groupby('Número pedido')['Produto'].apply(list).reset_index()\n",
        "\n",
        "# Convert all items in the 'Produto' column to strings before fitting\n",
        "basket['Produto'] = basket['Produto'].apply(lambda x: [str(item) for item in x])\n",
        "\n",
        "# Converter para Formato One-Hot Encoding\n",
        "te = TransactionEncoder()\n",
        "te_data = te.fit(basket['Produto']).transform(basket['Produto'])\n",
        "df_encoded = pd.DataFrame(te_data, columns=te.columns_)\n",
        "\n",
        "# Gerar conjuntos de itens frequentes\n",
        "frequent_itemsets = apriori(df_encoded, min_support=0.002, use_colnames=True)\n",
        "\n",
        "# Gerar regras de associação\n",
        "rules = association_rules(frequent_itemsets, metric='confidence',min_threshold=0.005, num_itemsets=1)\n",
        "\n",
        "# Transformar conjuntos em strings para exibição mais clara\n",
        "rules['antecedents'] = rules['antecedents'].apply(lambda x: list(x)[0])\n",
        "rules['consequents'] = rules['consequents'].apply(lambda x: list(x)[0])\n",
        "\n",
        "produto_para_analise = input(\"Insira o produto para análise: \")\n",
        "\n",
        "if produto_para_analise not in rules['antecedents'].unique():\n",
        "    print(f\"O produto '{produto_para_analise}' não foi encontrado.\")\n",
        "    print(\"Recomendações não disponíveis.\")\n",
        "else:\n",
        "    # Filtrar as regras de associação onde o produto está como antecedente\n",
        "    regras_produto = rules[rules['antecedents'] == produto_para_analise]\n",
        "\n",
        "    top_products = regras_produto.drop_duplicates(subset='consequents')\n",
        "\n",
        "    # Ordenar as regras por suporte em ordem decrescente e pegar os 5 primeiros produtos\n",
        "    top5_products = top_products.sort_values(by='support', ascending=False).head(10)\n",
        "\n",
        "    # Exibir os 5 primeiros produtos com maior suporte\n",
        "    print(top5_products[['consequents','support', 'confidence']])"
      ],
      "metadata": {
        "colab": {
          "base_uri": "https://localhost:8080/"
        },
        "id": "FCBWXDcEgY78",
        "outputId": "32dc2e49-8396-429c-f2a9-35cf94103d8c"
      },
      "execution_count": null,
      "outputs": [
        {
          "output_type": "stream",
          "name": "stderr",
          "text": [
            "/usr/local/lib/python3.10/dist-packages/ipykernel/ipkernel.py:283: DeprecationWarning: `should_run_async` will not call `transform_cell` automatically in the future. Please pass the result to `transformed_cell` argument and any exception that happen during thetransform in `preprocessing_exc_tuple` in IPython 7.17 and above.\n",
            "  and should_run_async(code)\n"
          ]
        },
        {
          "output_type": "stream",
          "name": "stdout",
          "text": [
            "Insira o produto para análise: Protoboard 830 Pontos\n",
            "                                            consequents   support  confidence\n",
            "1012  Resistores Vários Modelos 1/4w 10 Unidades Res...  0.010567        0.22\n",
            "247            Cabo Jumper 20cm Macho-Fêmea 40 Unidades  0.010567        0.22\n",
            "321            Cabo Jumper 20cm Macho-Macho 40 Unidades  0.010567        0.22\n",
            "655                Kit Led Difuso 5mm 4 Cores 40 Peças.  0.007685        0.16\n",
            "1005  Resistores Vários Modelos 1/4w 10 Unidades Res...  0.007685        0.16\n",
            "570                     Fonte Ajustável para Protoboard  0.006724        0.14\n",
            "1006  Resistores Vários Modelos 1/4w 10 Unidades Res...  0.006724        0.14\n",
            "981                            Potenciômetro Linear 10k  0.006724        0.14\n",
            "452         Conector de Bateria 9V Tipo:Com conector P4  0.005764        0.12\n",
            "924        Módulo Sensor Distância Ultrassônico HC-SR04  0.005764        0.12\n"
          ]
        }
      ]
    }
  ]
}